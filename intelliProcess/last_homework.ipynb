{
 "cells": [
  {
   "cell_type": "markdown",
   "metadata": {},
   "source": [
    "# 知識処理特論 最終課題\n",
    "\n",
    "data: intelliProcess_last.txt (j101-d_11_1499.txt)"
   ]
  },
  {
   "cell_type": "code",
   "execution_count": 1,
   "metadata": {},
   "outputs": [],
   "source": [
    "import numpy as np\n",
    "from collections import Counter\n",
    "from operator import itemgetter"
   ]
  },
  {
   "cell_type": "code",
   "execution_count": 9,
   "metadata": {
    "scrolled": true
   },
   "outputs": [],
   "source": [
    "f = open(\"../data/intelliProcess_last.txt\")\n",
    "\n",
    "text = f.read()\n",
    "f.close()"
   ]
  },
  {
   "cell_type": "markdown",
   "metadata": {},
   "source": [
    "## 問１\n",
    "\n",
    "述べ文字数，および異なり文字数を答えなさい"
   ]
  },
  {
   "cell_type": "code",
   "execution_count": 3,
   "metadata": {},
   "outputs": [
    {
     "name": "stdout",
     "output_type": "stream",
     "text": [
      "述べ文字数：5960\n",
      "異なり文字数：450\n"
     ]
    }
   ],
   "source": [
    "print(\"述べ文字数：\" + str(len(text)))\n",
    "\n",
    "diff_char = text[0]\n",
    "for i in text:\n",
    "    flag = 0\n",
    "    for j in diff_char:\n",
    "        if i == j:\n",
    "            flag = 1\n",
    "    if flag == 1:\n",
    "        continue\n",
    "    else:\n",
    "        diff_char += i\n",
    "\n",
    "print(\"異なり文字数：\" + str(len(diff_char)))"
   ]
  },
  {
   "cell_type": "markdown",
   "metadata": {},
   "source": [
    "## 問２\n",
    "\n",
    "エントロピーを求めることを考える．\n",
    "\n",
    "(a) 全ての文字種が等確率で出現するとした時の（文字単位の）エントロピー H0 を答えなさい．\n",
    "\n",
    "(b) 文字の出現頻度（確率）を考慮した場合のエントロピー H1 を答えなさい．\n",
    "\n",
    "(c) 上記結果を比較し，その考察を記述しなさい．"
   ]
  },
  {
   "cell_type": "markdown",
   "metadata": {},
   "source": [
    "### (a)"
   ]
  },
  {
   "cell_type": "code",
   "execution_count": 4,
   "metadata": {},
   "outputs": [
    {
     "data": {
      "text/plain": [
       "8.813781191217037"
      ]
     },
     "execution_count": 4,
     "metadata": {},
     "output_type": "execute_result"
    }
   ],
   "source": [
    "H0 = -np.log2(1/len(diff_char))\n",
    "H0"
   ]
  },
  {
   "cell_type": "markdown",
   "metadata": {},
   "source": [
    "$$\n",
    "    H_0 = 8.813781191217037\n",
    "$$"
   ]
  },
  {
   "cell_type": "markdown",
   "metadata": {},
   "source": [
    "### (b)"
   ]
  },
  {
   "cell_type": "code",
   "execution_count": 5,
   "metadata": {},
   "outputs": [
    {
     "data": {
      "text/plain": [
       "7.459371410966394"
      ]
     },
     "execution_count": 5,
     "metadata": {},
     "output_type": "execute_result"
    }
   ],
   "source": [
    "x_list = []\n",
    "x_list = Counter(text)\n",
    "H1 = 0\n",
    "\n",
    "for i in x_list:\n",
    "    p = x_list[i]/len(text)\n",
    "    H1 += -p*np.log2(p)\n",
    "\n",
    "H1"
   ]
  },
  {
   "cell_type": "markdown",
   "metadata": {},
   "source": [
    "$$\n",
    "    H_1 = 7.459371410966394\n",
    "$$"
   ]
  },
  {
   "cell_type": "markdown",
   "metadata": {},
   "source": [
    "### (c)\n",
    "\n",
    "(a)および(b)より，出現頻度を考慮したエントロピーH_1の方が値が小さい．エントロピーが小さいほど不確実性も低いため，H1の方が優れた結果と言える．"
   ]
  },
  {
   "cell_type": "markdown",
   "metadata": {},
   "source": [
    "## 問3\n",
    "\n",
    "(a) 最も単純な方法として，コーパスに出現する全文字種に対してtri-gram統計を求めるとした場合に，必要となる具体的なバイト数を答えなさい．\n",
    "\n",
    "(b) Nagaoらの手法で必要となる具体的なバイト数を答えなさい．\n",
    "\n",
    "(c) 上記結果を比較し，その考察を記述しなさい．"
   ]
  },
  {
   "cell_type": "markdown",
   "metadata": {},
   "source": [
    "### (a)"
   ]
  },
  {
   "cell_type": "markdown",
   "metadata": {},
   "source": [
    "$$\n",
    "    ((異なり文字数) \\times 2(byte))^3 = (450 \\times 2)^3 = 729,000,000 (byte)\n",
    "$$"
   ]
  },
  {
   "cell_type": "markdown",
   "metadata": {},
   "source": [
    "### (b)"
   ]
  },
  {
   "cell_type": "markdown",
   "metadata": {},
   "source": [
    "$$\n",
    "    7 \\times ((述べ文字数) \\times 2(byte)) = 7 \\times (5960 \\times 2) = 83,440 (byte)\n",
    "$$"
   ]
  },
  {
   "cell_type": "markdown",
   "metadata": {},
   "source": [
    "### (c)\n",
    "\n",
    "2つの結果を比較すると，Nagoらの手法の方が圧倒的にバイト数が低いことがわかる．"
   ]
  },
  {
   "cell_type": "markdown",
   "metadata": {},
   "source": [
    "## 問4\n",
    "\n",
    "出現頻度の閾値を15とした場合に得られる，6文字以上の the longest compound word を全て答えなさい．"
   ]
  },
  {
   "cell_type": "code",
   "execution_count": 6,
   "metadata": {},
   "outputs": [],
   "source": [
    "def getNGrams(garm,n):\n",
    "    return [garm[i:i+n] for i in range(0,len(garm)-(n-1))]"
   ]
  },
  {
   "cell_type": "code",
   "execution_count": 7,
   "metadata": {},
   "outputs": [],
   "source": [
    "def freqdict(gramf):\n",
    "    mydict = dict()\n",
    "    for (ch1,ch2,ch3,ch4,ch5,ch6) in gramf:\n",
    "        mydict[(ch1,ch2,ch3,ch4,ch5,ch6)] = mydict.get((ch1,ch2,ch3,ch4,ch5,ch6),0)+1\n",
    "    return mydict"
   ]
  },
  {
   "cell_type": "code",
   "execution_count": 8,
   "metadata": {},
   "outputs": [
    {
     "name": "stdout",
     "output_type": "stream",
     "text": [
      "(('ス', 'ラ', 'ッ', 'プ', '奏', '法'), 17)\n",
      "(('エ', 'レ', 'キ', 'ベ', 'ー', 'ス'), 16)\n"
     ]
    }
   ],
   "source": [
    "garmf = getNGrams(text,6)\n",
    "fre = freqdict(garmf)\n",
    "n_seq = sorted(fre.items(), key=itemgetter(1), reverse=True)\n",
    "for i in n_seq:\n",
    "    if i[1] >= 15:\n",
    "        print(i)"
   ]
  },
  {
   "cell_type": "markdown",
   "metadata": {},
   "source": [
    "## 問5\n",
    "\n",
    "上記で求めた the longest compound word であるwについて，その長さをnとしたとき，n=n1+n2 となるよう，適当にw1,w2に分割し，それぞれの出現頻度を答えなさい．また，この結果について，考察を記述しなさい．"
   ]
  },
  {
   "cell_type": "code",
   "execution_count": null,
   "metadata": {},
   "outputs": [],
   "source": []
  },
  {
   "cell_type": "markdown",
   "metadata": {},
   "source": [
    "## 問6\n",
    "\n",
    "受講した感想や質問などを記述しなさい．"
   ]
  },
  {
   "cell_type": "markdown",
   "metadata": {},
   "source": []
  }
 ],
 "metadata": {
  "kernelspec": {
   "display_name": "Python 3",
   "language": "python",
   "name": "python3"
  },
  "language_info": {
   "codemirror_mode": {
    "name": "ipython",
    "version": 3
   },
   "file_extension": ".py",
   "mimetype": "text/x-python",
   "name": "python",
   "nbconvert_exporter": "python",
   "pygments_lexer": "ipython3",
   "version": "3.6.4"
  }
 },
 "nbformat": 4,
 "nbformat_minor": 2
}
