{
 "cells": [
  {
   "cell_type": "code",
   "execution_count": 19,
   "metadata": {},
   "outputs": [],
   "source": [
    "import matplotlib.pyplot as plt\n",
    "import pandas as pd\n",
    "import numpy as np\n",
    "from scipy.cluster.hierarchy import linkage, dendrogram, fcluster"
   ]
  },
  {
   "cell_type": "code",
   "execution_count": 22,
   "metadata": {},
   "outputs": [],
   "source": [
    "#データ読み込み\n",
    "data = pd.read_csv('data.csv')"
   ]
  },
  {
   "cell_type": "code",
   "execution_count": 23,
   "metadata": {},
   "outputs": [],
   "source": [
    "#クラスタリング\n",
    "result = linkage(data, method='single', metric='euclidean')"
   ]
  },
  {
   "cell_type": "code",
   "execution_count": 24,
   "metadata": {},
   "outputs": [
    {
     "data": {
      "text/plain": [
       "{'color_list': ['g', 'r', 'r', 'r', 'c', 'c', 'c', 'b', 'b'],\n",
       " 'dcoord': [[0.0, 0.2828427124746193, 0.2828427124746193, 0.0],\n",
       "  [0.0, 0.1414213562373093, 0.1414213562373093, 0.0],\n",
       "  [0.0, 0.14142135623730964, 0.14142135623730964, 0.0],\n",
       "  [0.1414213562373093,\n",
       "   0.28284271247461895,\n",
       "   0.28284271247461895,\n",
       "   0.14142135623730964],\n",
       "  [0.0, 0.14142135623730953, 0.14142135623730953, 0.0],\n",
       "  [0.0, 0.28284271247461906, 0.28284271247461906, 0.14142135623730953],\n",
       "  [0.0, 0.5656854249492381, 0.5656854249492381, 0.28284271247461906],\n",
       "  [0.28284271247461895,\n",
       "   1.6970562748477143,\n",
       "   1.6970562748477143,\n",
       "   0.5656854249492381],\n",
       "  [0.2828427124746193,\n",
       "   2.4041630560342613,\n",
       "   2.4041630560342613,\n",
       "   1.6970562748477143]],\n",
       " 'icoord': [[5.0, 5.0, 15.0, 15.0],\n",
       "  [25.0, 25.0, 35.0, 35.0],\n",
       "  [45.0, 45.0, 55.0, 55.0],\n",
       "  [30.0, 30.0, 50.0, 50.0],\n",
       "  [85.0, 85.0, 95.0, 95.0],\n",
       "  [75.0, 75.0, 90.0, 90.0],\n",
       "  [65.0, 65.0, 82.5, 82.5],\n",
       "  [40.0, 40.0, 73.75, 73.75],\n",
       "  [10.0, 10.0, 56.875, 56.875]],\n",
       " 'ivl': ['-2.2',\n",
       "  '-2.0',\n",
       "  '1.6',\n",
       "  '1.7',\n",
       "  '1.9',\n",
       "  '2.0',\n",
       "  '-0.3',\n",
       "  '0.4',\n",
       "  '0.1',\n",
       "  '0.2'],\n",
       " 'leaves': [0, 1, 6, 7, 8, 9, 2, 5, 3, 4]}"
      ]
     },
     "execution_count": 24,
     "metadata": {},
     "output_type": "execute_result"
    },
    {
     "data": {
      "image/png": "[encoded data removed]",
      "text/plain": [
       "<matplotlib.figure.Figure at 0x7f3e241b0b38>"
      ]
     },
     "metadata": {},
     "output_type": "display_data"
    }
   ],
   "source": [
    "#樹形図で可視化\n",
    "dendrogram(result, labels=data_labels)"
   ]
  },
  {
   "cell_type": "code",
   "execution_count": null,
   "metadata": {},
   "outputs": [],
   "source": []
  }
 ],
 "metadata": {
  "kernelspec": {
   "display_name": "Python 3",
   "language": "python",
   "name": "python3"
  },
  "language_info": {
   "codemirror_mode": {
    "name": "ipython",
    "version": 3
   },
   "file_extension": ".py",
   "mimetype": "text/x-python",
   "name": "python",
   "nbconvert_exporter": "python",
   "pygments_lexer": "ipython3",
   "version": "3.6.4"
  }
 },
 "nbformat": 4,
 "nbformat_minor": 2
}
